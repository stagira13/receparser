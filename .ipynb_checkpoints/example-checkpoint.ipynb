{
 "cells": [
  {
   "cell_type": "markdown",
   "metadata": {},
   "source": [
    "# Receparser: レセ電パーサライブラリ"
   ]
  },
  {
   "cell_type": "markdown",
   "metadata": {},
   "source": [
    "ReceparserはPythonで電子レセプトファイルを読み込むためのパーサです。  \n",
    "電子レセプトファイルを読み込み、人間に読み取れる形へ変換します。  \n",
    "現在は医科レセプト・DPCレセプトに対応しています。"
   ]
  },
  {
   "cell_type": "markdown",
   "metadata": {},
   "source": [
    "電子レセプトファイルはこのような形をしています。"
   ]
  },
  {
   "cell_type": "markdown",
   "metadata": {},
   "source": [
    "```\n",
    "RE,1,1127,42806,サンプルＤＰＣ０１,1,3160822,,,,,,,1111,,,,,0,,,,,59,,,,\n",
    "HO,06132013,１２３４５６７,１,5,57706,,3,2072,,,44400,,,,1080\n",
    "KO,80137045,2222222,,5,57706,,,,,0,0,0\n",
    "BU,110290XX99X00X,4280617,4280621,6,\n",
    "SB,5849004,,,N178,01,,\n",
    "SB,5849004,,,N178,11,,\n",
    "SB,5849004,,,N178,21,,\n",
    "SB,4280005,,,I500,31,,\n",
    "SB,4280005,,,I500,41,,\n",
    "SB,8843935,,,I352,42,,\n",
    "SB,8836695,,,I050,43,,\n",
    "KK,,,2,4280429,1,74,,,,,,,\n",
    "```"
   ]
  },
  {
   "cell_type": "markdown",
   "metadata": {},
   "source": [
    "とても人間に読み取れる形式ではありませんし、Pythonでそのまま扱うことも出来ません。  \n",
    "`Receparser`はこれを、Pythonでも扱いやすいディクショナリ・ライクなオブジェクトに変換します。"
   ]
  },
  {
   "cell_type": "markdown",
   "metadata": {},
   "source": [
    "各行の先頭に`RE`,`HO`,`SB`のようなアルファベットが付いています。これを**レコード**と呼び、その行にどのようなデータが格納されているか決めています。  \n",
    "`Receparser`で読み込んだ、上記ファイルの`RE`行は以下のような形になります。"
   ]
  },
  {
   "cell_type": "markdown",
   "metadata": {},
   "source": [
    "```\n",
    "{'レコード識別番号': 'RE', \n",
    "'レセプト番号': '1', \n",
    "'レセプト種別': '1127',\n",
    "'診療年月': '42806', \n",
    "'氏名': 'サンプルＤＰＣ０１', \n",
    "'男女区分': '1',\n",
    "'生年月日': '3160822'...}\n",
    "```"
   ]
  },
  {
   "cell_type": "markdown",
   "metadata": {},
   "source": [
    "## Overview"
   ]
  },
  {
   "cell_type": "markdown",
   "metadata": {},
   "source": [
    "### receparser.Rece\n",
    "１件単位でレセプトデータを読み込み、**レコード**をキーにしたディクショナリ・ライクなオブジェクトに変換して返します。\n",
    "\n",
    "### receparser.MontlyRece\n",
    "ファイル全体を読み込み、**カルテ番号**をキーにしたディクショナリ・ライクなオブジェクトに変換して返します。それぞれのキーには、対応するレセプトの`Rece`オブジェクトが格納されます。  \n",
    "第一引数にはファイルを指定し、第二引数には`codes`オプションで読み込む電子レセプトの形式を指定します。  \n",
    "医科レセプトの場合は`codes=\"ika\"`、DPCレセプトの場合は`codes=\"dpc\"を指定して下さい。\n"
   ]
  },
  {
   "cell_type": "markdown",
   "metadata": {},
   "source": [
    "# 参考情報\n",
    "\n",
    "- 仕様一覧  \n",
    "https://shinryohoshu.mhlw.go.jp/shinryohoshu/receMenu/doReceInfo\n",
    "\n",
    "- 医科レセプト仕様  \n",
    "https://shinryohoshu.mhlw.go.jp/shinryohoshu/file/spec/R02bt1_1_kiroku.pdf\n",
    "- ＤＰＣレセプト仕様  \n",
    "https://shinryohoshu.mhlw.go.jp/shinryohoshu/file/spec/R02bt1_2_kiroku_dpc.pdf"
   ]
  },
  {
   "cell_type": "markdown",
   "metadata": {},
   "source": [
    "# Usage"
   ]
  },
  {
   "cell_type": "code",
   "execution_count": 1,
   "metadata": {},
   "outputs": [],
   "source": [
    "from receparser import MonthlyRece,Rece"
   ]
  },
  {
   "cell_type": "code",
   "execution_count": 2,
   "metadata": {},
   "outputs": [],
   "source": [
    "# 解説用にインポートしています。\n",
    "# 通常はreceparser.codesを明示的にインポートする必要はありません。\n",
    "from receparser.codes import dpc_codes,ika_codes"
   ]
  },
  {
   "cell_type": "code",
   "execution_count": 9,
   "metadata": {},
   "outputs": [
    {
     "data": {
      "text/plain": [
       "['レコード識別番号',\n",
       " 'レセプト番号',\n",
       " 'レセプト種別',\n",
       " '診療年月',\n",
       " '氏名',\n",
       " '男女区分',\n",
       " '生年月日',\n",
       " '給付割合',\n",
       " '入院年月日',\n",
       " '病棟区分',\n",
       " '一部負担金区分',\n",
       " 'レセプト特記事項',\n",
       " None,\n",
       " 'カルテ番号等',\n",
       " '割引点数単価',\n",
       " None,\n",
       " None,\n",
       " None,\n",
       " 'レセプト総括区分',\n",
       " '明細情報数',\n",
       " '検索番号',\n",
       " '記録条件仕様年月情報',\n",
       " '請求情報',\n",
       " '診療科名',\n",
       " '診療科_人体の部位',\n",
       " '診療科_性別等',\n",
       " '診療科_医学的処置',\n",
       " '診療科_特定疾病']"
      ]
     },
     "execution_count": 9,
     "metadata": {},
     "output_type": "execute_result"
    }
   ],
   "source": [
    "# 例えばdpcレセプトファイルのRE行は、このような構造です。\n",
    "dpc_codes['RE']"
   ]
  },
  {
   "cell_type": "code",
   "execution_count": 2,
   "metadata": {},
   "outputs": [],
   "source": [
    "# サンプルファイルを読み込みます。\n",
    "# 読み込みの際には、codesオプションに\"dpc\"か\"ika\"を指定します。\n",
    "dpc = MonthlyRece('dpcsample.csv',codes=\"dpc\")"
   ]
  },
  {
   "cell_type": "code",
   "execution_count": 3,
   "metadata": {},
   "outputs": [
    {
     "data": {
      "text/plain": [
       "dict_keys(['1111', '', '2222', '3333', '4444', '5555', '6666', '8888', '9999', '101010'])"
      ]
     },
     "execution_count": 3,
     "metadata": {},
     "output_type": "execute_result"
    }
   ],
   "source": [
    "# .keysでカルテ番号の一覧を見ることが出来ます。\n",
    "# ディクショナリのように動きます。.items(),.values()も使えます。\n",
    "dpc.keys()"
   ]
  },
  {
   "cell_type": "code",
   "execution_count": 6,
   "metadata": {},
   "outputs": [
    {
     "data": {
      "text/plain": [
       "[{'レコード識別番号': 'RE',\n",
       "  'レセプト番号': '1',\n",
       "  'レセプト種別': '1127',\n",
       "  '診療年月': '42806',\n",
       "  '氏名': 'サンプルＤＰＣ０１',\n",
       "  '男女区分': '1',\n",
       "  '生年月日': '3160822',\n",
       "  '給付割合': '',\n",
       "  '入院年月日': '',\n",
       "  '病棟区分': '',\n",
       "  '一部負担金区分': '',\n",
       "  'レセプト特記事項': '',\n",
       "  'カルテ番号等': '1111',\n",
       "  '割引点数単価': '',\n",
       "  'レセプト総括区分': '0',\n",
       "  '明細情報数': '',\n",
       "  '検索番号': '',\n",
       "  '記録条件仕様年月情報': '',\n",
       "  '請求情報': '',\n",
       "  '診療科名': '59',\n",
       "  '診療科_人体の部位': '',\n",
       "  '診療科_性別等': '',\n",
       "  '診療科_医学的処置': '',\n",
       "  '診療科_特定疾病': ''}]"
      ]
     },
     "execution_count": 6,
     "metadata": {},
     "output_type": "execute_result"
    }
   ],
   "source": [
    "# レコードを指定すれば、その内容を見ることが出来ます。レコードは常にディクショナリのリストを返します。\n",
    "dpc['1111']['RE']"
   ]
  },
  {
   "cell_type": "code",
   "execution_count": 5,
   "metadata": {},
   "outputs": [
    {
     "data": {
      "text/plain": [
       "[{'レコード識別番号': 'SB',\n",
       "  '傷病名コード': '5849004',\n",
       "  '修飾語コード': '',\n",
       "  '傷病名称': '',\n",
       "  'ICD10コード': 'N178',\n",
       "  '傷病名区分': '01',\n",
       "  '死因': '',\n",
       "  '補足コメント': ''},\n",
       " {'レコード識別番号': 'SB',\n",
       "  '傷病名コード': '5849004',\n",
       "  '修飾語コード': '',\n",
       "  '傷病名称': '',\n",
       "  'ICD10コード': 'N178',\n",
       "  '傷病名区分': '11',\n",
       "  '死因': '',\n",
       "  '補足コメント': ''},\n",
       " {'レコード識別番号': 'SB',\n",
       "  '傷病名コード': '5849004',\n",
       "  '修飾語コード': '',\n",
       "  '傷病名称': '',\n",
       "  'ICD10コード': 'N178',\n",
       "  '傷病名区分': '21',\n",
       "  '死因': '',\n",
       "  '補足コメント': ''},\n",
       " {'レコード識別番号': 'SB',\n",
       "  '傷病名コード': '4280005',\n",
       "  '修飾語コード': '',\n",
       "  '傷病名称': '',\n",
       "  'ICD10コード': 'I500',\n",
       "  '傷病名区分': '31',\n",
       "  '死因': '',\n",
       "  '補足コメント': ''},\n",
       " {'レコード識別番号': 'SB',\n",
       "  '傷病名コード': '4280005',\n",
       "  '修飾語コード': '',\n",
       "  '傷病名称': '',\n",
       "  'ICD10コード': 'I500',\n",
       "  '傷病名区分': '41',\n",
       "  '死因': '',\n",
       "  '補足コメント': ''},\n",
       " {'レコード識別番号': 'SB',\n",
       "  '傷病名コード': '8843935',\n",
       "  '修飾語コード': '',\n",
       "  '傷病名称': '',\n",
       "  'ICD10コード': 'I352',\n",
       "  '傷病名区分': '42',\n",
       "  '死因': '',\n",
       "  '補足コメント': ''},\n",
       " {'レコード識別番号': 'SB',\n",
       "  '傷病名コード': '8836695',\n",
       "  '修飾語コード': '',\n",
       "  '傷病名称': '',\n",
       "  'ICD10コード': 'I050',\n",
       "  '傷病名区分': '43',\n",
       "  '死因': '',\n",
       "  '補足コメント': ''}]"
      ]
     },
     "execution_count": 5,
     "metadata": {},
     "output_type": "execute_result"
    }
   ],
   "source": [
    "# 複数のレコードが記録されている場合です。\n",
    "dpc['1111']['SB']"
   ]
  },
  {
   "cell_type": "code",
   "execution_count": 4,
   "metadata": {
    "collapsed": true
   },
   "outputs": [],
   "source": [
    "import pandas as pd"
   ]
  },
  {
   "cell_type": "code",
   "execution_count": 8,
   "metadata": {},
   "outputs": [
    {
     "data": {
      "text/html": [
       "<div>\n",
       "<style>\n",
       "    .dataframe thead tr:only-child th {\n",
       "        text-align: right;\n",
       "    }\n",
       "\n",
       "    .dataframe thead th {\n",
       "        text-align: left;\n",
       "    }\n",
       "\n",
       "    .dataframe tbody tr th {\n",
       "        vertical-align: top;\n",
       "    }\n",
       "</style>\n",
       "<table border=\"1\" class=\"dataframe\">\n",
       "  <thead>\n",
       "    <tr style=\"text-align: right;\">\n",
       "      <th></th>\n",
       "      <th>ICD10コード</th>\n",
       "      <th>レコード識別番号</th>\n",
       "      <th>修飾語コード</th>\n",
       "      <th>傷病名コード</th>\n",
       "      <th>傷病名区分</th>\n",
       "      <th>傷病名称</th>\n",
       "      <th>死因</th>\n",
       "      <th>補足コメント</th>\n",
       "    </tr>\n",
       "  </thead>\n",
       "  <tbody>\n",
       "    <tr>\n",
       "      <th>0</th>\n",
       "      <td>N178</td>\n",
       "      <td>SB</td>\n",
       "      <td></td>\n",
       "      <td>5849004</td>\n",
       "      <td>01</td>\n",
       "      <td></td>\n",
       "      <td></td>\n",
       "      <td></td>\n",
       "    </tr>\n",
       "    <tr>\n",
       "      <th>1</th>\n",
       "      <td>N178</td>\n",
       "      <td>SB</td>\n",
       "      <td></td>\n",
       "      <td>5849004</td>\n",
       "      <td>11</td>\n",
       "      <td></td>\n",
       "      <td></td>\n",
       "      <td></td>\n",
       "    </tr>\n",
       "    <tr>\n",
       "      <th>2</th>\n",
       "      <td>N178</td>\n",
       "      <td>SB</td>\n",
       "      <td></td>\n",
       "      <td>5849004</td>\n",
       "      <td>21</td>\n",
       "      <td></td>\n",
       "      <td></td>\n",
       "      <td></td>\n",
       "    </tr>\n",
       "    <tr>\n",
       "      <th>3</th>\n",
       "      <td>I500</td>\n",
       "      <td>SB</td>\n",
       "      <td></td>\n",
       "      <td>4280005</td>\n",
       "      <td>31</td>\n",
       "      <td></td>\n",
       "      <td></td>\n",
       "      <td></td>\n",
       "    </tr>\n",
       "    <tr>\n",
       "      <th>4</th>\n",
       "      <td>I500</td>\n",
       "      <td>SB</td>\n",
       "      <td></td>\n",
       "      <td>4280005</td>\n",
       "      <td>41</td>\n",
       "      <td></td>\n",
       "      <td></td>\n",
       "      <td></td>\n",
       "    </tr>\n",
       "    <tr>\n",
       "      <th>5</th>\n",
       "      <td>I352</td>\n",
       "      <td>SB</td>\n",
       "      <td></td>\n",
       "      <td>8843935</td>\n",
       "      <td>42</td>\n",
       "      <td></td>\n",
       "      <td></td>\n",
       "      <td></td>\n",
       "    </tr>\n",
       "    <tr>\n",
       "      <th>6</th>\n",
       "      <td>I050</td>\n",
       "      <td>SB</td>\n",
       "      <td></td>\n",
       "      <td>8836695</td>\n",
       "      <td>43</td>\n",
       "      <td></td>\n",
       "      <td></td>\n",
       "      <td></td>\n",
       "    </tr>\n",
       "  </tbody>\n",
       "</table>\n",
       "</div>"
      ],
      "text/plain": [
       "  ICD10コード レコード識別番号 修飾語コード   傷病名コード 傷病名区分 傷病名称 死因 補足コメント\n",
       "0     N178       SB         5849004    01               \n",
       "1     N178       SB         5849004    11               \n",
       "2     N178       SB         5849004    21               \n",
       "3     I500       SB         4280005    31               \n",
       "4     I500       SB         4280005    41               \n",
       "5     I352       SB         8843935    42               \n",
       "6     I050       SB         8836695    43               "
      ]
     },
     "execution_count": 8,
     "metadata": {},
     "output_type": "execute_result"
    }
   ],
   "source": [
    "# レコードに対してpandasを使えば、簡単にDataFrameやSeriesへ変換出来ます。\n",
    "pd.DataFrame(dpc['1111']['SB'])"
   ]
  },
  {
   "cell_type": "code",
   "execution_count": 9,
   "metadata": {},
   "outputs": [
    {
     "data": {
      "text/plain": [
       "カルテ番号等             1111\n",
       "レコード識別番号             RE\n",
       "レセプト特記事項               \n",
       "レセプト番号                1\n",
       "レセプト種別             1127\n",
       "レセプト総括区分              0\n",
       "一部負担金区分                \n",
       "入院年月日                  \n",
       "割引点数単価                 \n",
       "明細情報数                  \n",
       "検索番号                   \n",
       "氏名            サンプルＤＰＣ０１\n",
       "生年月日            3160822\n",
       "男女区分                  1\n",
       "病棟区分                   \n",
       "給付割合                   \n",
       "記録条件仕様年月情報             \n",
       "診療年月              42806\n",
       "診療科_人体の部位              \n",
       "診療科_医学的処置              \n",
       "診療科_性別等                \n",
       "診療科_特定疾病               \n",
       "診療科名                 59\n",
       "請求情報                   \n",
       "dtype: object"
      ]
     },
     "execution_count": 9,
     "metadata": {},
     "output_type": "execute_result"
    }
   ],
   "source": [
    "pd.Series(dpc['1111']['RE'])"
   ]
  },
  {
   "cell_type": "code",
   "execution_count": 8,
   "metadata": {
    "collapsed": true
   },
   "outputs": [],
   "source": [
    "# 医科ファイルの読み込みも同様です\n",
    "ik = MonthlyRece('ikasample.csv',codes=\"ika\")"
   ]
  },
  {
   "cell_type": "code",
   "execution_count": 9,
   "metadata": {},
   "outputs": [
    {
     "data": {
      "text/plain": [
       "dict_keys(['1111', '', '2222', '5555', '666', '7777', '8888', '9999', '101010'])"
      ]
     },
     "execution_count": 9,
     "metadata": {},
     "output_type": "execute_result"
    }
   ],
   "source": [
    "ik.keys()"
   ]
  }
 ],
 "metadata": {
  "kernelspec": {
   "display_name": "Python 3",
   "language": "python",
   "name": "python3"
  },
  "language_info": {
   "codemirror_mode": {
    "name": "ipython",
    "version": 3
   },
   "file_extension": ".py",
   "mimetype": "text/x-python",
   "name": "python",
   "nbconvert_exporter": "python",
   "pygments_lexer": "ipython3",
   "version": "3.7.7"
  }
 },
 "nbformat": 4,
 "nbformat_minor": 2
}
